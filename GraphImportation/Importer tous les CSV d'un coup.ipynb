{
 "cells": [
  {
   "cell_type": "markdown",
   "metadata": {},
   "source": [
    "### Packages"
   ]
  },
  {
   "cell_type": "code",
   "execution_count": 1,
   "metadata": {},
   "outputs": [],
   "source": [
    "import os \n",
    "import pandas as pd \n",
    "import numpy as np\n"
   ]
  },
  {
   "cell_type": "code",
   "execution_count": 2,
   "metadata": {},
   "outputs": [
    {
     "data": {
      "text/plain": [
       "['Test SBM.ipynb',\n",
       " 'transactions_01160000_01169999.csv',\n",
       " '.ipynb_checkpoints',\n",
       " 'Import.ipynb',\n",
       " 'Import-Brouillon1.ipynb',\n",
       " \"Importer tous les CSV d'un coup.ipynb\",\n",
       " 'Import + Stats + Representation.ipynb']"
      ]
     },
     "execution_count": 2,
     "metadata": {},
     "output_type": "execute_result"
    }
   ],
   "source": [
    "os.listdir()"
   ]
  },
  {
   "cell_type": "markdown",
   "metadata": {},
   "source": [
    "# Smart Contracts"
   ]
  },
  {
   "cell_type": "code",
   "execution_count": 3,
   "metadata": {},
   "outputs": [],
   "source": [
    "os.chdir(\"/home/nbernard/output/contracts\")\n",
    "\n",
    "def import_all_contracts():\n",
    "    \n",
    "    csv_list = []\n",
    "    data = pd.DataFrame()\n",
    "    \n",
    "    for start in sorted(os.listdir()):\n",
    "        folder_list = os.listdir(\"/home/nbernard/output/contracts/{}\".format(start))\n",
    "        folder = sorted(os.listdir(\"/home/nbernard/output/contracts/{}/{}\".format(start,folder_list[0])))\n",
    "        csv_list.append(folder)\n",
    "    \n",
    "    csv_list = np.array(csv_list).flatten()\n",
    "    \n",
    "    end_list = []\n",
    "    for start in sorted(os.listdir()):\n",
    "        folder_list = os.listdir(\"/home/nbernard/output/contracts/{}\".format(start))\n",
    "        end_list.append(folder_list)\n",
    "    \n",
    "    end_list = np.array(end_list).flatten()\n",
    "    \n",
    "    for start,csv,end in zip(sorted(os.listdir()),csv_list,end_list):\n",
    "        \n",
    "        folder = \"/home/nbernard/output/contracts/{}\".format(start)\n",
    "        file = folder + \"/\" + end + \"/{}\".format(csv)\n",
    "        df = pd.read_csv(file)\n",
    "        data = data.append(df)\n",
    "    return(data)"
   ]
  },
  {
   "cell_type": "code",
   "execution_count": 4,
   "metadata": {},
   "outputs": [],
   "source": [
    "test = import_all_contracts()"
   ]
  },
  {
   "cell_type": "code",
   "execution_count": 5,
   "metadata": {},
   "outputs": [
    {
     "data": {
      "text/html": [
       "<div>\n",
       "<style scoped>\n",
       "    .dataframe tbody tr th:only-of-type {\n",
       "        vertical-align: middle;\n",
       "    }\n",
       "\n",
       "    .dataframe tbody tr th {\n",
       "        vertical-align: top;\n",
       "    }\n",
       "\n",
       "    .dataframe thead th {\n",
       "        text-align: right;\n",
       "    }\n",
       "</style>\n",
       "<table border=\"1\" class=\"dataframe\">\n",
       "  <thead>\n",
       "    <tr style=\"text-align: right;\">\n",
       "      <th></th>\n",
       "      <th>address</th>\n",
       "      <th>bytecode</th>\n",
       "      <th>function_sighashes</th>\n",
       "      <th>is_erc20</th>\n",
       "      <th>is_erc721</th>\n",
       "    </tr>\n",
       "  </thead>\n",
       "  <tbody>\n",
       "    <tr>\n",
       "      <th>0</th>\n",
       "      <td>0x94c81a1dbc5c41a5e9962a2d6da5aa5ff684259f</td>\n",
       "      <td>0x60606040526000357c01000000000000000000000000...</td>\n",
       "      <td>0x2ef9db13,0xe3767876,0xee97f7f3</td>\n",
       "      <td>False</td>\n",
       "      <td>False</td>\n",
       "    </tr>\n",
       "    <tr>\n",
       "      <th>1</th>\n",
       "      <td>0x61c5e2a298f40dbb2adee3b27c584adad6833bac</td>\n",
       "      <td>0x60606040526000357c01000000000000000000000000...</td>\n",
       "      <td>0x2ef9db13,0xe3767876</td>\n",
       "      <td>False</td>\n",
       "      <td>False</td>\n",
       "    </tr>\n",
       "    <tr>\n",
       "      <th>2</th>\n",
       "      <td>0xe7ca5a8e75ef17f845c14a85c50e39b0dd30b8b7</td>\n",
       "      <td>0x60606040526000357c01000000000000000000000000...</td>\n",
       "      <td>0x90b98a11,0xbbd39ac0</td>\n",
       "      <td>False</td>\n",
       "      <td>False</td>\n",
       "    </tr>\n",
       "    <tr>\n",
       "      <th>3</th>\n",
       "      <td>0xa50156cf80fa9ec2e16899e4fb7e072300787417</td>\n",
       "      <td>0x606060405236156100615760e060020a600035046314...</td>\n",
       "      <td>0x146008e3,0x667d5d22,0x8b299903,0x960edffb,0x...</td>\n",
       "      <td>False</td>\n",
       "      <td>False</td>\n",
       "    </tr>\n",
       "    <tr>\n",
       "      <th>4</th>\n",
       "      <td>0xe28e72fcf78647adce1f1252f240bbfaebd63bcc</td>\n",
       "      <td>0x600061039f537c010000000000000000000000000000...</td>\n",
       "      <td>0x45466f3a</td>\n",
       "      <td>False</td>\n",
       "      <td>False</td>\n",
       "    </tr>\n",
       "  </tbody>\n",
       "</table>\n",
       "</div>"
      ],
      "text/plain": [
       "                                      address  \\\n",
       "0  0x94c81a1dbc5c41a5e9962a2d6da5aa5ff684259f   \n",
       "1  0x61c5e2a298f40dbb2adee3b27c584adad6833bac   \n",
       "2  0xe7ca5a8e75ef17f845c14a85c50e39b0dd30b8b7   \n",
       "3  0xa50156cf80fa9ec2e16899e4fb7e072300787417   \n",
       "4  0xe28e72fcf78647adce1f1252f240bbfaebd63bcc   \n",
       "\n",
       "                                            bytecode  \\\n",
       "0  0x60606040526000357c01000000000000000000000000...   \n",
       "1  0x60606040526000357c01000000000000000000000000...   \n",
       "2  0x60606040526000357c01000000000000000000000000...   \n",
       "3  0x606060405236156100615760e060020a600035046314...   \n",
       "4  0x600061039f537c010000000000000000000000000000...   \n",
       "\n",
       "                                  function_sighashes  is_erc20  is_erc721  \n",
       "0                   0x2ef9db13,0xe3767876,0xee97f7f3     False      False  \n",
       "1                              0x2ef9db13,0xe3767876     False      False  \n",
       "2                              0x90b98a11,0xbbd39ac0     False      False  \n",
       "3  0x146008e3,0x667d5d22,0x8b299903,0x960edffb,0x...     False      False  \n",
       "4                                         0x45466f3a     False      False  "
      ]
     },
     "execution_count": 5,
     "metadata": {},
     "output_type": "execute_result"
    }
   ],
   "source": [
    "test.head()"
   ]
  },
  {
   "cell_type": "code",
   "execution_count": 6,
   "metadata": {
    "scrolled": false
   },
   "outputs": [
    {
     "data": {
      "text/html": [
       "<div>\n",
       "<style scoped>\n",
       "    .dataframe tbody tr th:only-of-type {\n",
       "        vertical-align: middle;\n",
       "    }\n",
       "\n",
       "    .dataframe tbody tr th {\n",
       "        vertical-align: top;\n",
       "    }\n",
       "\n",
       "    .dataframe thead th {\n",
       "        text-align: right;\n",
       "    }\n",
       "</style>\n",
       "<table border=\"1\" class=\"dataframe\">\n",
       "  <thead>\n",
       "    <tr style=\"text-align: right;\">\n",
       "      <th></th>\n",
       "      <th>address</th>\n",
       "      <th>bytecode</th>\n",
       "      <th>function_sighashes</th>\n",
       "      <th>is_erc20</th>\n",
       "      <th>is_erc721</th>\n",
       "    </tr>\n",
       "  </thead>\n",
       "  <tbody>\n",
       "    <tr>\n",
       "      <th>count</th>\n",
       "      <td>566603</td>\n",
       "      <td>566603</td>\n",
       "      <td>495588</td>\n",
       "      <td>566603</td>\n",
       "      <td>566603</td>\n",
       "    </tr>\n",
       "    <tr>\n",
       "      <th>unique</th>\n",
       "      <td>566603</td>\n",
       "      <td>23775</td>\n",
       "      <td>8322</td>\n",
       "      <td>2</td>\n",
       "      <td>1</td>\n",
       "    </tr>\n",
       "    <tr>\n",
       "      <th>top</th>\n",
       "      <td>0xa00c2a80d297b0777ce1c730d9167e73ff107b28</td>\n",
       "      <td>0x60606040523615610055576000357c01000000000000...</td>\n",
       "      <td>0x66117276,0x82c90ac0,0xb76ea962,0xffffffff</td>\n",
       "      <td>False</td>\n",
       "      <td>False</td>\n",
       "    </tr>\n",
       "    <tr>\n",
       "      <th>freq</th>\n",
       "      <td>1</td>\n",
       "      <td>203318</td>\n",
       "      <td>203321</td>\n",
       "      <td>559852</td>\n",
       "      <td>566603</td>\n",
       "    </tr>\n",
       "  </tbody>\n",
       "</table>\n",
       "</div>"
      ],
      "text/plain": [
       "                                           address  \\\n",
       "count                                       566603   \n",
       "unique                                      566603   \n",
       "top     0xa00c2a80d297b0777ce1c730d9167e73ff107b28   \n",
       "freq                                             1   \n",
       "\n",
       "                                                 bytecode  \\\n",
       "count                                              566603   \n",
       "unique                                              23775   \n",
       "top     0x60606040523615610055576000357c01000000000000...   \n",
       "freq                                               203318   \n",
       "\n",
       "                                 function_sighashes is_erc20 is_erc721  \n",
       "count                                        495588   566603    566603  \n",
       "unique                                         8322        2         1  \n",
       "top     0x66117276,0x82c90ac0,0xb76ea962,0xffffffff    False     False  \n",
       "freq                                         203321   559852    566603  "
      ]
     },
     "execution_count": 6,
     "metadata": {},
     "output_type": "execute_result"
    }
   ],
   "source": [
    "test.describe()"
   ]
  },
  {
   "cell_type": "code",
   "execution_count": 7,
   "metadata": {},
   "outputs": [
    {
     "data": {
      "text/plain": [
       "address                      0x48698846aa521fc57d575c7fff8bc9268d602b79\n",
       "bytecode              0x60606040523615610055576000357c01000000000000...\n",
       "function_sighashes          0x66117276,0x82c90ac0,0xb76ea962,0xffffffff\n",
       "is_erc20                                                          False\n",
       "is_erc721                                                         False\n",
       "Name: 71840, dtype: object"
      ]
     },
     "execution_count": 7,
     "metadata": {},
     "output_type": "execute_result"
    }
   ],
   "source": [
    "test.iloc[566602]"
   ]
  },
  {
   "cell_type": "markdown",
   "metadata": {},
   "source": [
    "# Transactions"
   ]
  },
  {
   "cell_type": "code",
   "execution_count": 49,
   "metadata": {},
   "outputs": [],
   "source": [
    "os.chdir(\"/home/nbernard/output/transactions\")\n",
    "\n",
    "def import_all_transactions():\n",
    "    \n",
    "    csv_list = []\n",
    "    data = pd.DataFrame()\n",
    "    \n",
    "    for start in sorted(os.listdir()):\n",
    "        folder_list = os.listdir(\"/home/nbernard/output/transactions/{}\".format(start))\n",
    "        folder = sorted(os.listdir(\"/home/nbernard/output/transactions/{}/{}\".format(start,folder_list[0])))\n",
    "        csv_list.append(folder)\n",
    "    \n",
    "    csv_list = np.array(csv_list).flatten()\n",
    "    print(csv_list)\n",
    "    end_list = []\n",
    "    for start in sorted(os.listdir()):\n",
    "        folder_list = os.listdir(\"/home/nbernard/output/transactions/{}\".format(start))\n",
    "        end_list.append(folder_list)\n",
    "    \n",
    "    end_list = np.array(end_list).flatten()\n",
    "    \n",
    "    for start,csv,end in zip(sorted(os.listdir()),csv_list,end_list):\n",
    "        \n",
    "        folder = \"/home/nbernard/output/transactions/{}\".format(start)\n",
    "        file = folder + \"/\" + end + \"/{}\".format(csv)\n",
    "        df = pd.read_csv(file)\n",
    "        data = data.append(df)\n",
    "    return(data)"
   ]
  },
  {
   "cell_type": "code",
   "execution_count": null,
   "metadata": {},
   "outputs": [],
   "source": []
  }
 ],
 "metadata": {
  "kernelspec": {
   "display_name": "Python 3",
   "language": "python",
   "name": "python3"
  },
  "language_info": {
   "codemirror_mode": {
    "name": "ipython",
    "version": 3
   },
   "file_extension": ".py",
   "mimetype": "text/x-python",
   "name": "python",
   "nbconvert_exporter": "python",
   "pygments_lexer": "ipython3",
   "version": "3.6.7"
  }
 },
 "nbformat": 4,
 "nbformat_minor": 2
}
