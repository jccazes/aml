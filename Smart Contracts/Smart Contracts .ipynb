{
 "cells": [
  {
   "cell_type": "markdown",
   "metadata": {},
   "source": [
    "### Packages"
   ]
  },
  {
   "cell_type": "code",
   "execution_count": 292,
   "metadata": {},
   "outputs": [],
   "source": [
    "import os \n",
    "import pandas as pd \n",
    "import numpy as np \n",
    "import glob\n",
    "import multiprocessing\n",
    "import collections\n",
    "from time import time\n",
    "\n",
    "# Working Directory\n",
    "os.chdir(\"../data\")\n",
    "\n",
    "# POur les opcodes \n",
    "\n",
    "from pyevmasm import instruction_tables, disassemble_hex, disassemble_all, assemble_hex\n",
    "import binascii\n"
   ]
  },
  {
   "cell_type": "markdown",
   "metadata": {},
   "source": [
    "# Import de Bytecode de Smart Contracts"
   ]
  },
  {
   "cell_type": "code",
   "execution_count": 293,
   "metadata": {},
   "outputs": [],
   "source": [
    "def aggregate_contract_csv():\n",
    "    \"\"\"\n",
    "    Concatene les csv présents dans le répertoire courant, \n",
    "    Renvoie un pandas DF résultant de la concaténation\n",
    "    \n",
    "    \"\"\"\n",
    "    extension = 'csv'\n",
    "    all_filenames = [i for i in glob.glob('contracts*.{}'.format(extension))]\n",
    "    combined_csv = pd.concat([pd.read_csv(f) for f in all_filenames ])\n",
    "    combined_csv.to_csv( \"combined_csv.csv\", index=False, encoding='utf-8-sig')\n",
    "    return(combined_csv)"
   ]
  },
  {
   "cell_type": "code",
   "execution_count": 294,
   "metadata": {},
   "outputs": [],
   "source": [
    "smc_data = aggregate_contract_csv()"
   ]
  },
  {
   "cell_type": "code",
   "execution_count": 295,
   "metadata": {
    "scrolled": false
   },
   "outputs": [
    {
     "data": {
      "text/html": [
       "<div>\n",
       "<style scoped>\n",
       "    .dataframe tbody tr th:only-of-type {\n",
       "        vertical-align: middle;\n",
       "    }\n",
       "\n",
       "    .dataframe tbody tr th {\n",
       "        vertical-align: top;\n",
       "    }\n",
       "\n",
       "    .dataframe thead th {\n",
       "        text-align: right;\n",
       "    }\n",
       "</style>\n",
       "<table border=\"1\" class=\"dataframe\">\n",
       "  <thead>\n",
       "    <tr style=\"text-align: right;\">\n",
       "      <th></th>\n",
       "      <th>address</th>\n",
       "      <th>bytecode</th>\n",
       "      <th>function_sighashes</th>\n",
       "      <th>is_erc20</th>\n",
       "      <th>is_erc721</th>\n",
       "    </tr>\n",
       "  </thead>\n",
       "  <tbody>\n",
       "    <tr>\n",
       "      <th>0</th>\n",
       "      <td>0xb260ca22980dd31a5d2289c52cbb16e6235986bc</td>\n",
       "      <td>0x</td>\n",
       "      <td>NaN</td>\n",
       "      <td>False</td>\n",
       "      <td>False</td>\n",
       "    </tr>\n",
       "    <tr>\n",
       "      <th>1</th>\n",
       "      <td>0xc7c7077456a7fd30e49c205049d35ad5bce32501</td>\n",
       "      <td>0x</td>\n",
       "      <td>NaN</td>\n",
       "      <td>False</td>\n",
       "      <td>False</td>\n",
       "    </tr>\n",
       "    <tr>\n",
       "      <th>2</th>\n",
       "      <td>0x7d3ae940eb73dc9131758ad2e326c7d863b0916a</td>\n",
       "      <td>0x606060405236156100615760e060020a600035046313...</td>\n",
       "      <td>0x13af4035,0x35c1d349,0x8da5cb5b,0x9003adfe,0x...</td>\n",
       "      <td>False</td>\n",
       "      <td>False</td>\n",
       "    </tr>\n",
       "    <tr>\n",
       "      <th>3</th>\n",
       "      <td>0xd9c324fa5596d188831afa9716ef78d0c2339afc</td>\n",
       "      <td>0x606060405236156100825760e060020a600035046306...</td>\n",
       "      <td>0x06fdde03,0x18160ddd,0x23b872dd,0x313ce567,0x...</td>\n",
       "      <td>False</td>\n",
       "      <td>False</td>\n",
       "    </tr>\n",
       "    <tr>\n",
       "      <th>4</th>\n",
       "      <td>0xa0dcc980a9ed1fbeb6641b098929ee7caad5c5a6</td>\n",
       "      <td>0x606060405236156100825760e060020a600035046306...</td>\n",
       "      <td>0x06fdde03,0x18160ddd,0x23b872dd,0x313ce567,0x...</td>\n",
       "      <td>False</td>\n",
       "      <td>False</td>\n",
       "    </tr>\n",
       "  </tbody>\n",
       "</table>\n",
       "</div>"
      ],
      "text/plain": [
       "                                      address  \\\n",
       "0  0xb260ca22980dd31a5d2289c52cbb16e6235986bc   \n",
       "1  0xc7c7077456a7fd30e49c205049d35ad5bce32501   \n",
       "2  0x7d3ae940eb73dc9131758ad2e326c7d863b0916a   \n",
       "3  0xd9c324fa5596d188831afa9716ef78d0c2339afc   \n",
       "4  0xa0dcc980a9ed1fbeb6641b098929ee7caad5c5a6   \n",
       "\n",
       "                                            bytecode  \\\n",
       "0                                                 0x   \n",
       "1                                                 0x   \n",
       "2  0x606060405236156100615760e060020a600035046313...   \n",
       "3  0x606060405236156100825760e060020a600035046306...   \n",
       "4  0x606060405236156100825760e060020a600035046306...   \n",
       "\n",
       "                                  function_sighashes  is_erc20  is_erc721  \n",
       "0                                                NaN     False      False  \n",
       "1                                                NaN     False      False  \n",
       "2  0x13af4035,0x35c1d349,0x8da5cb5b,0x9003adfe,0x...     False      False  \n",
       "3  0x06fdde03,0x18160ddd,0x23b872dd,0x313ce567,0x...     False      False  \n",
       "4  0x06fdde03,0x18160ddd,0x23b872dd,0x313ce567,0x...     False      False  "
      ]
     },
     "execution_count": 295,
     "metadata": {},
     "output_type": "execute_result"
    }
   ],
   "source": [
    "smc_data.head()"
   ]
  },
  {
   "cell_type": "markdown",
   "metadata": {},
   "source": [
    "# Levenshtein Distance"
   ]
  },
  {
   "cell_type": "code",
   "execution_count": 296,
   "metadata": {},
   "outputs": [],
   "source": [
    "def distance_leven(mot1, mot2):\n",
    "    #print(os.getpid())\n",
    "    dist = { (-1,-1): 0 }\n",
    "    for i,c in enumerate(mot1) :\n",
    "        dist[i,-1] = dist[i-1,-1] + 1\n",
    "        dist[-1,i] = dist[-1,i-1] + 1\n",
    "        for j,d in enumerate(mot2) :\n",
    "            opt = [ ]\n",
    "            if (i-1,j) in dist : \n",
    "                x = dist[i-1,j] + 1\n",
    "                opt.append(x)\n",
    "            if (i,j-1) in dist : \n",
    "                x = dist[i,j-1] + 1\n",
    "                opt.append(x)\n",
    "            if (i-1,j-1) in dist :\n",
    "                x = dist[i-1,j-1] + (1 if c != d else 0)\n",
    "                opt.append(x)\n",
    "            dist[i,j] = min(opt)\n",
    "    #print('done')\n",
    "    return dist[len(mot1)-1,len(mot2)-1]/(len(mot1)+len(mot2))"
   ]
  },
  {
   "cell_type": "code",
   "execution_count": 264,
   "metadata": {},
   "outputs": [],
   "source": [
    "m1 = smc_data.bytecode.values[0]\n",
    "m2 = smc_data.bytecode.values[14]"
   ]
  },
  {
   "cell_type": "code",
   "execution_count": 265,
   "metadata": {},
   "outputs": [
    {
     "data": {
      "text/plain": [
       "0.9996945632254124"
      ]
     },
     "execution_count": 265,
     "metadata": {},
     "output_type": "execute_result"
    }
   ],
   "source": [
    "distance_leven(m1,m2)"
   ]
  },
  {
   "cell_type": "code",
   "execution_count": 8,
   "metadata": {},
   "outputs": [
    {
     "data": {
      "text/plain": [
       "0.9995395948434622"
      ]
     },
     "execution_count": 8,
     "metadata": {},
     "output_type": "execute_result"
    }
   ],
   "source": [
    "distance_leven(m1,m2)/max(len(m1),len(m2))"
   ]
  },
  {
   "cell_type": "code",
   "execution_count": 9,
   "metadata": {
    "scrolled": true
   },
   "outputs": [
    {
     "data": {
      "text/plain": [
       "0.9990796134376438"
      ]
     },
     "execution_count": 9,
     "metadata": {},
     "output_type": "execute_result"
    }
   ],
   "source": [
    "distance_leven(m1,m2)/(len(m1)+len(m2))"
   ]
  },
  {
   "cell_type": "markdown",
   "metadata": {},
   "source": [
    "# Ponzi Schemes Bytecodes and Opcodes"
   ]
  },
  {
   "cell_type": "code",
   "execution_count": 297,
   "metadata": {},
   "outputs": [],
   "source": [
    "arrayponzi = {\"object\": \"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\",\"opcodes\": \"PUSH1 0x60 PUSH1 0x40 MSTORE PUSH1 0x0 PUSH1 0x1 PUSH1 0x0 POP SSTORE PUSH1 0x0 PUSH1 0x3 PUSH1 0x0 POP SSTORE JUMPDEST CALLER PUSH1 0x2 PUSH1 0x0 PUSH2 0x100 EXP DUP2 SLOAD DUP2 PUSH20 0xFFFFFFFFFFFFFFFFFFFFFFFFFFFFFFFFFFFFFFFF MUL NOT AND SWAP1 DUP4 MUL OR SWAP1 SSTORE POP JUMPDEST PUSH2 0x3D3 DUP1 PUSH2 0x4F PUSH1 0x0 CODECOPY PUSH1 0x0 RETURN PUSH1 0x60 PUSH1 0x40 MSTORE CALLDATASIZE ISZERO PUSH2 0x5E JUMPI PUSH1 0x0 CALLDATALOAD PUSH29 0x100000000000000000000000000000000000000000000000000000000 SWAP1 DIV DUP1 PUSH4 0x365B98B2 EQ PUSH2 0x27C JUMPI DUP1 PUSH4 0x61027F78 EQ PUSH2 0x2C5 JUMPI DUP1 PUSH4 0x8DA5CB5B EQ PUSH2 0x2E8 JUMPI DUP1 PUSH4 0xBFF1F9E1 EQ PUSH2 0x321 JUMPI PUSH2 0x5E JUMP JUMPDEST PUSH2 0x27A JUMPDEST PUSH8 0xDE0B6B3A7640000 CALLVALUE LT ISZERO PUSH2 0x77 JUMPI PUSH2 0x2 JUMP JUMPDEST PUSH1 0x40 PUSH1 0x40 MLOAD SWAP1 DUP2 ADD PUSH1 0x40 MSTORE DUP1 CALLER DUP2 MSTORE PUSH1 0x20 ADD CALLVALUE DUP2 MSTORE PUSH1 0x20 ADD POP PUSH1 0x0 PUSH1 0x0 POP PUSH1 0x0 PUSH1 0x0 POP DUP1 SLOAD SWAP1 POP DUP2 SLOAD DUP2 LT ISZERO PUSH2 0x2 JUMPI SWAP1 PUSH1 0x0 MSTORE PUSH1 0x20 PUSH1 0x0 SHA3 SWAP1 PUSH1 0x2 MUL ADD PUSH1 0x0 JUMPDEST POP PUSH1 0x0 DUP3 ADD MLOAD DUP2 PUSH1 0x0 ADD PUSH1 0x0 PUSH2 0x100 EXP DUP2 SLOAD DUP2 PUSH20 0xFFFFFFFFFFFFFFFFFFFFFFFFFFFFFFFFFFFFFFFF MUL NOT AND SWAP1 DUP4 MUL OR SWAP1 SSTORE POP PUSH1 0x20 DUP3 ADD MLOAD DUP2 PUSH1 0x1 ADD PUSH1 0x0 POP SSTORE SWAP1 POP POP PUSH1 0x1 PUSH1 0x3 PUSH1 0x0 DUP3 DUP3 DUP3 POP SLOAD ADD SWAP3 POP POP DUP2 SWAP1 SSTORE POP PUSH1 0x2 PUSH1 0x0 SWAP1 SLOAD SWAP1 PUSH2 0x100 EXP SWAP1 DIV PUSH20 0xFFFFFFFFFFFFFFFFFFFFFFFFFFFFFFFFFFFFFFFF AND PUSH20 0xFFFFFFFFFFFFFFFFFFFFFFFFFFFFFFFFFFFFFFFF AND PUSH1 0x0 PUSH1 0xA CALLVALUE DIV PUSH1 0x40 MLOAD DUP1 SWAP1 POP PUSH1 0x0 PUSH1 0x40 MLOAD DUP1 DUP4 SUB DUP2 DUP6 DUP9 DUP9 CALL SWAP4 POP POP POP POP POP JUMPDEST PUSH1 0x2 PUSH1 0x0 PUSH1 0x0 POP PUSH1 0x1 PUSH1 0x0 POP SLOAD DUP2 SLOAD DUP2 LT ISZERO PUSH2 0x2 JUMPI SWAP1 PUSH1 0x0 MSTORE PUSH1 0x20 PUSH1 0x0 SHA3 SWAP1 PUSH1 0x2 MUL ADD PUSH1 0x0 JUMPDEST POP PUSH1 0x1 ADD PUSH1 0x0 POP SLOAD MUL ADDRESS PUSH20 0xFFFFFFFFFFFFFFFFFFFFFFFFFFFFFFFFFFFFFFFF AND BALANCE GT ISZERO PUSH2 0x277 JUMPI PUSH1 0x0 PUSH1 0x0 POP PUSH1 0x1 PUSH1 0x0 POP SLOAD DUP2 SLOAD DUP2 LT ISZERO PUSH2 0x2 JUMPI SWAP1 PUSH1 0x0 MSTORE PUSH1 0x20 PUSH1 0x0 SHA3 SWAP1 PUSH1 0x2 MUL ADD PUSH1 0x0 JUMPDEST POP PUSH1 0x0 ADD PUSH1 0x0 SWAP1 SLOAD SWAP1 PUSH2 0x100 EXP SWAP1 DIV PUSH20 0xFFFFFFFFFFFFFFFFFFFFFFFFFFFFFFFFFFFFFFFF AND PUSH20 0xFFFFFFFFFFFFFFFFFFFFFFFFFFFFFFFFFFFFFFFF AND PUSH1 0x0 PUSH1 0x2 PUSH1 0x0 PUSH1 0x0 POP PUSH1 0x1 PUSH1 0x0 POP SLOAD DUP2 SLOAD DUP2 LT ISZERO PUSH2 0x2 JUMPI SWAP1 PUSH1 0x0 MSTORE PUSH1 0x20 PUSH1 0x0 SHA3 SWAP1 PUSH1 0x2 MUL ADD PUSH1 0x0 JUMPDEST POP PUSH1 0x1 ADD PUSH1 0x0 POP SLOAD MUL PUSH1 0x40 MLOAD DUP1 SWAP1 POP PUSH1 0x0 PUSH1 0x40 MLOAD DUP1 DUP4 SUB DUP2 DUP6 DUP9 DUP9 CALL SWAP4 POP POP POP POP POP PUSH1 0x1 PUSH1 0x1 PUSH1 0x0 DUP3 DUP3 DUP3 POP SLOAD ADD SWAP3 POP POP DUP2 SWAP1 SSTORE POP PUSH2 0x166 JUMP JUMPDEST JUMPDEST JUMP JUMPDEST STOP JUMPDEST PUSH2 0x292 PUSH1 0x4 DUP1 DUP1 CALLDATALOAD SWAP1 PUSH1 0x20 ADD SWAP1 SWAP2 SWAP1 POP POP PUSH2 0x344 JUMP JUMPDEST PUSH1 0x40 MLOAD DUP1 DUP4 PUSH20 0xFFFFFFFFFFFFFFFFFFFFFFFFFFFFFFFFFFFFFFFF AND DUP2 MSTORE PUSH1 0x20 ADD DUP3 DUP2 MSTORE PUSH1 0x20 ADD SWAP3 POP POP POP PUSH1 0x40 MLOAD DUP1 SWAP2 SUB SWAP1 RETURN JUMPDEST PUSH2 0x2D2 PUSH1 0x4 DUP1 POP POP PUSH2 0x39B JUMP JUMPDEST PUSH1 0x40 MLOAD DUP1 DUP3 DUP2 MSTORE PUSH1 0x20 ADD SWAP2 POP POP PUSH1 0x40 MLOAD DUP1 SWAP2 SUB SWAP1 RETURN JUMPDEST PUSH2 0x2F5 PUSH1 0x4 DUP1 POP POP PUSH2 0x3A4 JUMP JUMPDEST PUSH1 0x40 MLOAD DUP1 DUP3 PUSH20 0xFFFFFFFFFFFFFFFFFFFFFFFFFFFFFFFFFFFFFFFF AND DUP2 MSTORE PUSH1 0x20 ADD SWAP2 POP POP PUSH1 0x40 MLOAD DUP1 SWAP2 SUB SWAP1 RETURN JUMPDEST PUSH2 0x32E PUSH1 0x4 DUP1 POP POP PUSH2 0x3CA JUMP JUMPDEST PUSH1 0x40 MLOAD DUP1 DUP3 DUP2 MSTORE PUSH1 0x20 ADD SWAP2 POP POP PUSH1 0x40 MLOAD DUP1 SWAP2 SUB SWAP1 RETURN JUMPDEST PUSH1 0x0 PUSH1 0x0 POP DUP2 DUP2 SLOAD DUP2 LT ISZERO PUSH2 0x2 JUMPI SWAP1 PUSH1 0x0 MSTORE PUSH1 0x20 PUSH1 0x0 SHA3 SWAP1 PUSH1 0x2 MUL ADD PUSH1 0x0 JUMPDEST SWAP2 POP SWAP1 POP DUP1 PUSH1 0x0 ADD PUSH1 0x0 SWAP1 SLOAD SWAP1 PUSH2 0x100 EXP SWAP1 DIV PUSH20 0xFFFFFFFFFFFFFFFFFFFFFFFFFFFFFFFFFFFFFFFF AND SWAP1 DUP1 PUSH1 0x1 ADD PUSH1 0x0 POP SLOAD SWAP1 POP DUP3 JUMP JUMPDEST PUSH1 0x1 PUSH1 0x0 POP SLOAD DUP2 JUMP JUMPDEST PUSH1 0x2 PUSH1 0x0 SWAP1 SLOAD SWAP1 PUSH2 0x100 EXP SWAP1 DIV PUSH20 0xFFFFFFFFFFFFFFFFFFFFFFFFFFFFFFFFFFFFFFFF AND DUP2 JUMP JUMPDEST PUSH1 0x3 PUSH1 0x0 POP SLOAD DUP2 JUMP \"}"
   ]
  },
  {
   "cell_type": "markdown",
   "metadata": {},
   "source": [
    "contract ArrayPonzi{\n",
    "    struct User{\n",
    "        address addr;\n",
    "        uint amount;\n",
    "    }\n",
    "    User[] public users;\n",
    "    uint public paying = 0;\n",
    "    address public owner;\n",
    "    uint public totalUsers=0;\n",
    "    \n",
    "    function ArrayPonzi(){\n",
    "        owner = msg.sender;\n",
    "    }\n",
    "    function()  {\n",
    "        if (msg.value < 1 ether) throw;\n",
    "        \n",
    "        users[users.length] = User({addr:msg.sender,amount:msg.value});\n",
    "        totalUsers += 1 ;\n",
    "        owner.send(msg.value/10);\n",
    "        \n",
    "        while (this.balance > users[paying].amount*2){\n",
    "            users[paying].addr.send(users[paying].amount*2);\n",
    "            paying += 1;\n",
    "        }\n",
    "        \n",
    "    }\n",
    "}"
   ]
  },
  {
   "cell_type": "code",
   "execution_count": 298,
   "metadata": {},
   "outputs": [],
   "source": [
    "treeponzi = {\n",
    "\"object\": \"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\",\n",
    "\"opcodes\": \"PUSH1 0x60 PUSH1 0x40 MSTORE JUMPDEST PUSH1 0x40 PUSH1 0x40 MLOAD SWAP1 DUP2 ADD PUSH1 0x40 MSTORE DUP1 CALLER DUP2 MSTORE PUSH1 0x20 ADD CALLER DUP2 MSTORE PUSH1 0x20 ADD POP PUSH1 0x0 PUSH1 0x0 POP PUSH1 0x0 CALLER PUSH20 0xFFFFFFFFFFFFFFFFFFFFFFFFFFFFFFFFFFFFFFFF AND DUP2 MSTORE PUSH1 0x20 ADD SWAP1 DUP2 MSTORE PUSH1 0x20 ADD PUSH1 0x0 SHA3 PUSH1 0x0 POP PUSH1 0x0 DUP3 ADD MLOAD DUP2 PUSH1 0x0 ADD PUSH1 0x0 PUSH2 0x100 EXP DUP2 SLOAD DUP2 PUSH20 0xFFFFFFFFFFFFFFFFFFFFFFFFFFFFFFFFFFFFFFFF MUL NOT AND SWAP1 DUP4 MUL OR SWAP1 SSTORE POP PUSH1 0x20 DUP3 ADD MLOAD DUP2 PUSH1 0x1 ADD PUSH1 0x0 PUSH2 0x100 EXP DUP2 SLOAD DUP2 PUSH20 0xFFFFFFFFFFFFFFFFFFFFFFFFFFFFFFFFFFFFFFFF MUL NOT AND SWAP1 DUP4 MUL OR SWAP1 SSTORE POP SWAP1 POP POP CALLER PUSH1 0x1 PUSH1 0x0 PUSH2 0x100 EXP DUP2 SLOAD DUP2 PUSH20 0xFFFFFFFFFFFFFFFFFFFFFFFFFFFFFFFFFFFFFFFF MUL NOT AND SWAP1 DUP4 MUL OR SWAP1 SSTORE POP JUMPDEST PUSH2 0x32C DUP1 PUSH2 0xEC PUSH1 0x0 CODECOPY PUSH1 0x0 RETURN PUSH1 0x60 PUSH1 0x40 MSTORE PUSH1 0x0 CALLDATALOAD PUSH29 0x100000000000000000000000000000000000000000000000000000000 SWAP1 DIV DUP1 PUSH4 0xD014C01F EQ PUSH2 0x39 JUMPI PUSH2 0x37 JUMP JUMPDEST STOP JUMPDEST PUSH2 0x4F PUSH1 0x4 DUP1 DUP1 CALLDATALOAD SWAP1 PUSH1 0x20 ADD SWAP1 SWAP2 SWAP1 POP POP PUSH2 0x51 JUMP JUMPDEST STOP JUMPDEST PUSH1 0x0 PUSH1 0x0 PUSH8 0xDE0B6B3A7640000 CALLVALUE LT DUP1 PUSH2 0xD4 JUMPI POP PUSH1 0x0 PUSH1 0x0 PUSH1 0x0 POP PUSH1 0x0 CALLER PUSH20 0xFFFFFFFFFFFFFFFFFFFFFFFFFFFFFFFFFFFFFFFF AND DUP2 MSTORE PUSH1 0x20 ADD SWAP1 DUP2 MSTORE PUSH1 0x20 ADD PUSH1 0x0 SHA3 PUSH1 0x0 POP PUSH1 0x0 ADD PUSH1 0x0 SWAP1 SLOAD SWAP1 PUSH2 0x100 EXP SWAP1 DIV PUSH20 0xFFFFFFFFFFFFFFFFFFFFFFFFFFFFFFFFFFFFFFFF AND PUSH20 0xFFFFFFFFFFFFFFFFFFFFFFFFFFFFFFFFFFFFFFFF AND EQ ISZERO JUMPDEST DUP1 PUSH2 0x147 JUMPI POP PUSH1 0x0 PUSH1 0x0 PUSH1 0x0 POP PUSH1 0x0 DUP6 PUSH20 0xFFFFFFFFFFFFFFFFFFFFFFFFFFFFFFFFFFFFFFFF AND DUP2 MSTORE PUSH1 0x20 ADD SWAP1 DUP2 MSTORE PUSH1 0x20 ADD PUSH1 0x0 SHA3 PUSH1 0x0 POP PUSH1 0x0 ADD PUSH1 0x0 SWAP1 SLOAD SWAP1 PUSH2 0x100 EXP SWAP1 DIV PUSH20 0xFFFFFFFFFFFFFFFFFFFFFFFFFFFFFFFFFFFFFFFF AND PUSH20 0xFFFFFFFFFFFFFFFFFFFFFFFFFFFFFFFFFFFFFFFF AND EQ JUMPDEST ISZERO PUSH2 0x151 JUMPI PUSH2 0x2 JUMP JUMPDEST PUSH1 0x40 PUSH1 0x40 MLOAD SWAP1 DUP2 ADD PUSH1 0x40 MSTORE DUP1 DUP5 DUP2 MSTORE PUSH1 0x20 ADD CALLER DUP2 MSTORE PUSH1 0x20 ADD POP PUSH1 0x0 PUSH1 0x0 POP PUSH1 0x0 CALLER PUSH20 0xFFFFFFFFFFFFFFFFFFFFFFFFFFFFFFFFFFFFFFFF AND DUP2 MSTORE PUSH1 0x20 ADD SWAP1 DUP2 MSTORE PUSH1 0x20 ADD PUSH1 0x0 SHA3 PUSH1 0x0 POP PUSH1 0x0 DUP3 ADD MLOAD DUP2 PUSH1 0x0 ADD PUSH1 0x0 PUSH2 0x100 EXP DUP2 SLOAD DUP2 PUSH20 0xFFFFFFFFFFFFFFFFFFFFFFFFFFFFFFFFFFFFFFFF MUL NOT AND SWAP1 DUP4 MUL OR SWAP1 SSTORE POP PUSH1 0x20 DUP3 ADD MLOAD DUP2 PUSH1 0x1 ADD PUSH1 0x0 PUSH2 0x100 EXP DUP2 SLOAD DUP2 PUSH20 0xFFFFFFFFFFFFFFFFFFFFFFFFFFFFFFFFFFFFFFFF MUL NOT AND SWAP1 DUP4 MUL OR SWAP1 SSTORE POP SWAP1 POP POP DUP3 SWAP2 POP CALLVALUE SWAP1 POP JUMPDEST PUSH1 0x1 PUSH1 0x0 SWAP1 SLOAD SWAP1 PUSH2 0x100 EXP SWAP1 DIV PUSH20 0xFFFFFFFFFFFFFFFFFFFFFFFFFFFFFFFFFFFFFFFF AND PUSH20 0xFFFFFFFFFFFFFFFFFFFFFFFFFFFFFFFFFFFFFFFF AND DUP3 PUSH20 0xFFFFFFFFFFFFFFFFFFFFFFFFFFFFFFFFFFFFFFFF AND EQ ISZERO ISZERO PUSH2 0x2F3 JUMPI PUSH1 0x2 DUP2 DIV SWAP1 POP DUP1 POP DUP2 PUSH20 0xFFFFFFFFFFFFFFFFFFFFFFFFFFFFFFFFFFFFFFFF AND PUSH1 0x0 DUP3 PUSH1 0x40 MLOAD DUP1 SWAP1 POP PUSH1 0x0 PUSH1 0x40 MLOAD DUP1 DUP4 SUB DUP2 DUP6 DUP9 DUP9 CALL SWAP4 POP POP POP POP POP PUSH1 0x0 PUSH1 0x0 POP PUSH1 0x0 DUP4 PUSH20 0xFFFFFFFFFFFFFFFFFFFFFFFFFFFFFFFFFFFFFFFF AND DUP2 MSTORE PUSH1 0x20 ADD SWAP1 DUP2 MSTORE PUSH1 0x20 ADD PUSH1 0x0 SHA3 PUSH1 0x0 POP PUSH1 0x0 ADD PUSH1 0x0 SWAP1 SLOAD SWAP1 PUSH2 0x100 EXP SWAP1 DIV PUSH20 0xFFFFFFFFFFFFFFFFFFFFFFFFFFFFFFFFFFFFFFFF AND SWAP2 POP DUP2 POP PUSH2 0x205 JUMP JUMPDEST DUP2 PUSH20 0xFFFFFFFFFFFFFFFFFFFFFFFFFFFFFFFFFFFFFFFF AND PUSH1 0x0 DUP3 PUSH1 0x40 MLOAD DUP1 SWAP1 POP PUSH1 0x0 PUSH1 0x40 MLOAD DUP1 DUP4 SUB DUP2 DUP6 DUP9 DUP9 CALL SWAP4 POP POP POP POP POP JUMPDEST POP POP POP JUMP \"\n",
    "}"
   ]
  },
  {
   "cell_type": "markdown",
   "metadata": {},
   "source": [
    "contract TreePonzi {\n",
    "    struct User {\n",
    "        address inviter;\n",
    "        address itself;\n",
    "    }\n",
    "    mapping (address =>User) tree;\n",
    "    address top;\n",
    "    \n",
    "    function TreePonzi(){\n",
    "        tree[msg.sender] = User({itself:msg.sender,inviter:msg.sender});\n",
    "        top = msg.sender;\n",
    "    }\n",
    "    \n",
    "    function enter(address inviter) public {\n",
    "        if ((msg.value < 1 ether) || (tree[msg.sender].inviter != 0x0) || (tree[inviter].inviter == 0x0)) throw;\n",
    "        tree[msg.sender] = User({itself:msg.sender,inviter:inviter});\n",
    "        address current = inviter;\n",
    "        uint amount = msg.value;\n",
    "        while(current != top){\n",
    "            amount = amount/2;\n",
    "            current.send(amount);\n",
    "            current = tree[current].inviter;\n",
    "        }\n",
    "        current.send(amount);\n",
    "}\n",
    "    \n",
    "}"
   ]
  },
  {
   "cell_type": "code",
   "execution_count": 299,
   "metadata": {},
   "outputs": [],
   "source": [
    "handoverponzi = {\n",
    "\"object\": \"0x606060405267016345785d8a00006002600050555b33600060006101000a81548173ffffffffffffffffffffffffffffffffffffffff0219169083021790555033600160006101000a81548173ffffffffffffffffffffffffffffffffffffffff021916908302179055505b61025c806100796000396000f360606040523615610053576000357c0100000000000000000000000000000000000000000000000000000000900480630eb3f5a0146101095780634f8632ba14610121578063a035b1fe1461015a57610053565b6101075b60026000505434101561006957610002565b600160009054906101000a900473ffffffffffffffffffffffffffffffffffffffff1673ffffffffffffffffffffffffffffffffffffffff166000600a6009340204604051809050600060405180830381858888f193505050505033600160006101000a81548173ffffffffffffffffffffffffffffffffffffffff021916908302179055506002600360026000505402046002600050819055505b565b005b61011f600480803590602001909190505061017d565b005b61012e600480505061022d565b604051808273ffffffffffffffffffffffffffffffffffffffff16815260200191505060405180910390f35b6101676004805050610253565b6040518082815260200191505060405180910390f35b600060009054906101000a900473ffffffffffffffffffffffffffffffffffffffff1673ffffffffffffffffffffffffffffffffffffffff163373ffffffffffffffffffffffffffffffffffffffff16141561022957600060009054906101000a900473ffffffffffffffffffffffffffffffffffffffff1673ffffffffffffffffffffffffffffffffffffffff16600082604051809050600060405180830381858888f19350505050505b5b50565b600160009054906101000a900473ffffffffffffffffffffffffffffffffffffffff1681565b6002600050548156\",\n",
    "\"opcodes\": \"PUSH1 0x60 PUSH1 0x40 MSTORE PUSH8 0x16345785D8A0000 PUSH1 0x2 PUSH1 0x0 POP SSTORE JUMPDEST CALLER PUSH1 0x0 PUSH1 0x0 PUSH2 0x100 EXP DUP2 SLOAD DUP2 PUSH20 0xFFFFFFFFFFFFFFFFFFFFFFFFFFFFFFFFFFFFFFFF MUL NOT AND SWAP1 DUP4 MUL OR SWAP1 SSTORE POP CALLER PUSH1 0x1 PUSH1 0x0 PUSH2 0x100 EXP DUP2 SLOAD DUP2 PUSH20 0xFFFFFFFFFFFFFFFFFFFFFFFFFFFFFFFFFFFFFFFF MUL NOT AND SWAP1 DUP4 MUL OR SWAP1 SSTORE POP JUMPDEST PUSH2 0x25C DUP1 PUSH2 0x79 PUSH1 0x0 CODECOPY PUSH1 0x0 RETURN PUSH1 0x60 PUSH1 0x40 MSTORE CALLDATASIZE ISZERO PUSH2 0x53 JUMPI PUSH1 0x0 CALLDATALOAD PUSH29 0x100000000000000000000000000000000000000000000000000000000 SWAP1 DIV DUP1 PUSH4 0xEB3F5A0 EQ PUSH2 0x109 JUMPI DUP1 PUSH4 0x4F8632BA EQ PUSH2 0x121 JUMPI DUP1 PUSH4 0xA035B1FE EQ PUSH2 0x15A JUMPI PUSH2 0x53 JUMP JUMPDEST PUSH2 0x107 JUMPDEST PUSH1 0x2 PUSH1 0x0 POP SLOAD CALLVALUE LT ISZERO PUSH2 0x69 JUMPI PUSH2 0x2 JUMP JUMPDEST PUSH1 0x1 PUSH1 0x0 SWAP1 SLOAD SWAP1 PUSH2 0x100 EXP SWAP1 DIV PUSH20 0xFFFFFFFFFFFFFFFFFFFFFFFFFFFFFFFFFFFFFFFF AND PUSH20 0xFFFFFFFFFFFFFFFFFFFFFFFFFFFFFFFFFFFFFFFF AND PUSH1 0x0 PUSH1 0xA PUSH1 0x9 CALLVALUE MUL DIV PUSH1 0x40 MLOAD DUP1 SWAP1 POP PUSH1 0x0 PUSH1 0x40 MLOAD DUP1 DUP4 SUB DUP2 DUP6 DUP9 DUP9 CALL SWAP4 POP POP POP POP POP CALLER PUSH1 0x1 PUSH1 0x0 PUSH2 0x100 EXP DUP2 SLOAD DUP2 PUSH20 0xFFFFFFFFFFFFFFFFFFFFFFFFFFFFFFFFFFFFFFFF MUL NOT AND SWAP1 DUP4 MUL OR SWAP1 SSTORE POP PUSH1 0x2 PUSH1 0x3 PUSH1 0x2 PUSH1 0x0 POP SLOAD MUL DIV PUSH1 0x2 PUSH1 0x0 POP DUP2 SWAP1 SSTORE POP JUMPDEST JUMP JUMPDEST STOP JUMPDEST PUSH2 0x11F PUSH1 0x4 DUP1 DUP1 CALLDATALOAD SWAP1 PUSH1 0x20 ADD SWAP1 SWAP2 SWAP1 POP POP PUSH2 0x17D JUMP JUMPDEST STOP JUMPDEST PUSH2 0x12E PUSH1 0x4 DUP1 POP POP PUSH2 0x22D JUMP JUMPDEST PUSH1 0x40 MLOAD DUP1 DUP3 PUSH20 0xFFFFFFFFFFFFFFFFFFFFFFFFFFFFFFFFFFFFFFFF AND DUP2 MSTORE PUSH1 0x20 ADD SWAP2 POP POP PUSH1 0x40 MLOAD DUP1 SWAP2 SUB SWAP1 RETURN JUMPDEST PUSH2 0x167 PUSH1 0x4 DUP1 POP POP PUSH2 0x253 JUMP JUMPDEST PUSH1 0x40 MLOAD DUP1 DUP3 DUP2 MSTORE PUSH1 0x20 ADD SWAP2 POP POP PUSH1 0x40 MLOAD DUP1 SWAP2 SUB SWAP1 RETURN JUMPDEST PUSH1 0x0 PUSH1 0x0 SWAP1 SLOAD SWAP1 PUSH2 0x100 EXP SWAP1 DIV PUSH20 0xFFFFFFFFFFFFFFFFFFFFFFFFFFFFFFFFFFFFFFFF AND PUSH20 0xFFFFFFFFFFFFFFFFFFFFFFFFFFFFFFFFFFFFFFFF AND CALLER PUSH20 0xFFFFFFFFFFFFFFFFFFFFFFFFFFFFFFFFFFFFFFFF AND EQ ISZERO PUSH2 0x229 JUMPI PUSH1 0x0 PUSH1 0x0 SWAP1 SLOAD SWAP1 PUSH2 0x100 EXP SWAP1 DIV PUSH20 0xFFFFFFFFFFFFFFFFFFFFFFFFFFFFFFFFFFFFFFFF AND PUSH20 0xFFFFFFFFFFFFFFFFFFFFFFFFFFFFFFFFFFFFFFFF AND PUSH1 0x0 DUP3 PUSH1 0x40 MLOAD DUP1 SWAP1 POP PUSH1 0x0 PUSH1 0x40 MLOAD DUP1 DUP4 SUB DUP2 DUP6 DUP9 DUP9 CALL SWAP4 POP POP POP POP POP JUMPDEST JUMPDEST POP JUMP JUMPDEST PUSH1 0x1 PUSH1 0x0 SWAP1 SLOAD SWAP1 PUSH2 0x100 EXP SWAP1 DIV PUSH20 0xFFFFFFFFFFFFFFFFFFFFFFFFFFFFFFFFFFFFFFFF AND DUP2 JUMP JUMPDEST PUSH1 0x2 PUSH1 0x0 POP SLOAD DUP2 JUMP \"\n",
    "}"
   ]
  },
  {
   "cell_type": "markdown",
   "metadata": {},
   "source": [
    "contract HandoverPonzi{\n",
    "    address owner;\n",
    "    address public user;\n",
    "    uint public price = 100 finney;\n",
    "    \n",
    "    function HandoverPonzi(){\n",
    "        owner = msg.sender;\n",
    "        user = msg.sender;\n",
    "    }\n",
    "    \n",
    "    function(){\n",
    "        if (msg.value < price) throw;\n",
    "        user.send(msg.value * 9/10);\n",
    "        user = msg.sender ;\n",
    "        price = price *3/2;\n",
    "        \n",
    "    }\n",
    "    \n",
    "    function sweepCommission(uint amount){\n",
    "        if (msg.sender == owner) owner.send(amount);\n",
    "        \n",
    "    }\n",
    "}"
   ]
  },
  {
   "cell_type": "code",
   "execution_count": 300,
   "metadata": {},
   "outputs": [],
   "source": [
    "waterfallponzi = {\n",
    "\"object\": \"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\",\n",
    "\"opcodes\": \"PUSH1 0x60 PUSH1 0x40 MSTORE PUSH1 0x0 PUSH1 0x1 PUSH1 0x0 POP SSTORE PUSH1 0x0 PUSH1 0x2 PUSH1 0x0 POP SSTORE PUSH1 0x0 PUSH1 0x4 PUSH1 0x0 POP SSTORE JUMPDEST CALLER PUSH1 0x3 PUSH1 0x0 PUSH2 0x100 EXP DUP2 SLOAD DUP2 PUSH20 0xFFFFFFFFFFFFFFFFFFFFFFFFFFFFFFFFFFFFFFFF MUL NOT AND SWAP1 DUP4 MUL OR SWAP1 SSTORE POP JUMPDEST PUSH2 0x406 DUP1 PUSH2 0x57 PUSH1 0x0 CODECOPY PUSH1 0x0 RETURN PUSH1 0x60 PUSH1 0x40 MSTORE CALLDATASIZE ISZERO PUSH2 0x5E JUMPI PUSH1 0x0 CALLDATALOAD PUSH29 0x100000000000000000000000000000000000000000000000000000000 SWAP1 DIV DUP1 PUSH4 0x365B98B2 EQ PUSH2 0x2AF JUMPI DUP1 PUSH4 0x8DA5CB5B EQ PUSH2 0x2F8 JUMPI DUP1 PUSH4 0x9AF1D35A EQ PUSH2 0x331 JUMPI DUP1 PUSH4 0xBFF1F9E1 EQ PUSH2 0x354 JUMPI PUSH2 0x5E JUMP JUMPDEST PUSH2 0x2AD JUMPDEST PUSH8 0xDE0B6B3A7640000 CALLVALUE LT ISZERO PUSH2 0x77 JUMPI PUSH2 0x2 JUMP JUMPDEST PUSH1 0x40 PUSH1 0x40 MLOAD SWAP1 DUP2 ADD PUSH1 0x40 MSTORE DUP1 CALLER DUP2 MSTORE PUSH1 0x20 ADD CALLVALUE DUP2 MSTORE PUSH1 0x20 ADD POP PUSH1 0x0 PUSH1 0x0 POP PUSH1 0x2 PUSH1 0x0 POP SLOAD DUP2 SLOAD DUP2 LT ISZERO PUSH2 0x2 JUMPI SWAP1 PUSH1 0x0 MSTORE PUSH1 0x20 PUSH1 0x0 SHA3 SWAP1 PUSH1 0x2 MUL ADD PUSH1 0x0 JUMPDEST POP PUSH1 0x0 DUP3 ADD MLOAD DUP2 PUSH1 0x0 ADD PUSH1 0x0 PUSH2 0x100 EXP DUP2 SLOAD DUP2 PUSH20 0xFFFFFFFFFFFFFFFFFFFFFFFFFFFFFFFFFFFFFFFF MUL NOT AND SWAP1 DUP4 MUL OR SWAP1 SSTORE POP PUSH1 0x20 DUP3 ADD MLOAD DUP2 PUSH1 0x1 ADD PUSH1 0x0 POP SSTORE SWAP1 POP POP PUSH1 0x1 PUSH1 0x2 PUSH1 0x0 DUP3 DUP3 DUP3 POP SLOAD ADD SWAP3 POP POP DUP2 SWAP1 SSTORE POP PUSH1 0xA CALLVALUE DIV PUSH1 0x4 PUSH1 0x0 POP DUP2 SWAP1 SSTORE POP PUSH1 0x3 PUSH1 0x0 SWAP1 SLOAD SWAP1 PUSH2 0x100 EXP SWAP1 DIV PUSH20 0xFFFFFFFFFFFFFFFFFFFFFFFFFFFFFFFFFFFFFFFF AND PUSH20 0xFFFFFFFFFFFFFFFFFFFFFFFFFFFFFFFFFFFFFFFF AND PUSH1 0x0 PUSH1 0x4 PUSH1 0x0 POP SLOAD PUSH1 0x40 MLOAD DUP1 SWAP1 POP PUSH1 0x0 PUSH1 0x40 MLOAD DUP1 DUP4 SUB DUP2 DUP6 DUP9 DUP9 CALL SWAP4 POP POP POP POP POP PUSH1 0x0 PUSH1 0x1 PUSH1 0x0 POP DUP2 SWAP1 SSTORE POP JUMPDEST PUSH1 0x64 PUSH1 0x6 PUSH1 0x0 PUSH1 0x0 POP PUSH1 0x1 PUSH1 0x0 POP SLOAD DUP2 SLOAD DUP2 LT ISZERO PUSH2 0x2 JUMPI SWAP1 PUSH1 0x0 MSTORE PUSH1 0x20 PUSH1 0x0 SHA3 SWAP1 PUSH1 0x2 MUL ADD PUSH1 0x0 JUMPDEST POP PUSH1 0x1 ADD PUSH1 0x0 POP SLOAD MUL DIV ADDRESS PUSH20 0xFFFFFFFFFFFFFFFFFFFFFFFFFFFFFFFFFFFFFFFF AND BALANCE LT ISZERO DUP1 ISZERO PUSH2 0x1DF JUMPI POP PUSH1 0x2 PUSH1 0x0 POP SLOAD PUSH1 0x1 PUSH1 0x0 POP SLOAD LT JUMPDEST ISZERO PUSH2 0x2AA JUMPI PUSH1 0x0 PUSH1 0x0 POP PUSH1 0x1 PUSH1 0x0 POP SLOAD DUP2 SLOAD DUP2 LT ISZERO PUSH2 0x2 JUMPI SWAP1 PUSH1 0x0 MSTORE PUSH1 0x20 PUSH1 0x0 SHA3 SWAP1 PUSH1 0x2 MUL ADD PUSH1 0x0 JUMPDEST POP PUSH1 0x0 ADD PUSH1 0x0 SWAP1 SLOAD SWAP1 PUSH2 0x100 EXP SWAP1 DIV PUSH20 0xFFFFFFFFFFFFFFFFFFFFFFFFFFFFFFFFFFFFFFFF AND PUSH20 0xFFFFFFFFFFFFFFFFFFFFFFFFFFFFFFFFFFFFFFFF AND PUSH1 0x0 PUSH1 0x64 PUSH1 0x6 PUSH1 0x0 PUSH1 0x0 POP PUSH1 0x1 PUSH1 0x0 POP SLOAD DUP2 SLOAD DUP2 LT ISZERO PUSH2 0x2 JUMPI SWAP1 PUSH1 0x0 MSTORE PUSH1 0x20 PUSH1 0x0 SHA3 SWAP1 PUSH1 0x2 MUL ADD PUSH1 0x0 JUMPDEST POP PUSH1 0x1 ADD PUSH1 0x0 POP SLOAD MUL DIV PUSH1 0x40 MLOAD DUP1 SWAP1 POP PUSH1 0x0 PUSH1 0x40 MLOAD DUP1 DUP4 SUB DUP2 DUP6 DUP9 DUP9 CALL SWAP4 POP POP POP POP POP PUSH1 0x1 PUSH1 0x1 PUSH1 0x0 DUP3 DUP3 DUP3 POP SLOAD ADD SWAP3 POP POP DUP2 SWAP1 SSTORE POP PUSH2 0x17D JUMP JUMPDEST JUMPDEST JUMP JUMPDEST STOP JUMPDEST PUSH2 0x2C5 PUSH1 0x4 DUP1 DUP1 CALLDATALOAD SWAP1 PUSH1 0x20 ADD SWAP1 SWAP2 SWAP1 POP POP PUSH2 0x380 JUMP JUMPDEST PUSH1 0x40 MLOAD DUP1 DUP4 PUSH20 0xFFFFFFFFFFFFFFFFFFFFFFFFFFFFFFFFFFFFFFFF AND DUP2 MSTORE PUSH1 0x20 ADD DUP3 DUP2 MSTORE PUSH1 0x20 ADD SWAP3 POP POP POP PUSH1 0x40 MLOAD DUP1 SWAP2 SUB SWAP1 RETURN JUMPDEST PUSH2 0x305 PUSH1 0x4 DUP1 POP POP PUSH2 0x3E0 JUMP JUMPDEST PUSH1 0x40 MLOAD DUP1 DUP3 PUSH20 0xFFFFFFFFFFFFFFFFFFFFFFFFFFFFFFFFFFFFFFFF AND DUP2 MSTORE PUSH1 0x20 ADD SWAP2 POP POP PUSH1 0x40 MLOAD DUP1 SWAP2 SUB SWAP1 RETURN JUMPDEST PUSH2 0x33E PUSH1 0x4 DUP1 POP POP PUSH2 0x377 JUMP JUMPDEST PUSH1 0x40 MLOAD DUP1 DUP3 DUP2 MSTORE PUSH1 0x20 ADD SWAP2 POP POP PUSH1 0x40 MLOAD DUP1 SWAP2 SUB SWAP1 RETURN JUMPDEST PUSH2 0x361 PUSH1 0x4 DUP1 POP POP PUSH2 0x3D7 JUMP JUMPDEST PUSH1 0x40 MLOAD DUP1 DUP3 DUP2 MSTORE PUSH1 0x20 ADD SWAP2 POP POP PUSH1 0x40 MLOAD DUP1 SWAP2 SUB SWAP1 RETURN JUMPDEST PUSH1 0x4 PUSH1 0x0 POP SLOAD DUP2 JUMP JUMPDEST PUSH1 0x0 PUSH1 0x0 POP DUP2 DUP2 SLOAD DUP2 LT ISZERO PUSH2 0x2 JUMPI SWAP1 PUSH1 0x0 MSTORE PUSH1 0x20 PUSH1 0x0 SHA3 SWAP1 PUSH1 0x2 MUL ADD PUSH1 0x0 JUMPDEST SWAP2 POP SWAP1 POP DUP1 PUSH1 0x0 ADD PUSH1 0x0 SWAP1 SLOAD SWAP1 PUSH2 0x100 EXP SWAP1 DIV PUSH20 0xFFFFFFFFFFFFFFFFFFFFFFFFFFFFFFFFFFFFFFFF AND SWAP1 DUP1 PUSH1 0x1 ADD PUSH1 0x0 POP SLOAD SWAP1 POP DUP3 JUMP JUMPDEST PUSH1 0x2 PUSH1 0x0 POP SLOAD DUP2 JUMP JUMPDEST PUSH1 0x3 PUSH1 0x0 SWAP1 SLOAD SWAP1 PUSH2 0x100 EXP SWAP1 DIV PUSH20 0xFFFFFFFFFFFFFFFFFFFFFFFFFFFFFFFFFFFFFFFF AND DUP2 JUMP \"\n",
    "}"
   ]
  },
  {
   "cell_type": "markdown",
   "metadata": {},
   "source": [
    "contract WaterfallPonzi{\n",
    "    struct User {\n",
    "        address addr;\n",
    "        uint amount;\n",
    "    }\n",
    "    \n",
    "    User[] public users;\n",
    "    uint pos = 0;\n",
    "    uint public totalUsers=0;\n",
    "    address public owner;\n",
    "    uint public fees = 0;\n",
    "    \n",
    "    function WaterfallPonzi(){\n",
    "        owner = msg.sender;\n",
    "    }\n",
    "    \n",
    "    function(){\n",
    "        if (msg.value < 1 ether) throw;\n",
    "        \n",
    "        users[totalUsers] = User({addr:msg.sender,amount:msg.value});\n",
    "        \n",
    "        totalUsers += 1;\n",
    "        fees = msg.value/10;\n",
    "        owner.send(fees);\n",
    "        \n",
    "        pos = 0;\n",
    "        while (this.balance >= users[pos].amount * 6/100 && pos < totalUsers){\n",
    "            users[pos].addr.send(users[pos].amount * 6/100);\n",
    "            pos += 1;\n",
    "        }\n",
    "    }\n",
    "}"
   ]
  },
  {
   "cell_type": "markdown",
   "metadata": {},
   "source": [
    "# Création de la distance "
   ]
  },
  {
   "cell_type": "code",
   "execution_count": 81,
   "metadata": {},
   "outputs": [],
   "source": [
    "def add_dist(df):\n",
    "    \"\"\"\n",
    "    Version non parallélisée\n",
    "    A partir d'un DF pandas, ajoute la distance de levenshtein des bytecodes des contrats aux bytecodes de référence\n",
    "    \n",
    "    \"\"\"\n",
    "    \n",
    "    pool = multiprocessing.Pool()\n",
    "    \n",
    "    arr_ponz = []\n",
    "    tree_ponz = []\n",
    "    handov_ponz = []\n",
    "    water_ponz = []\n",
    "    \n",
    "    arponzstr = arrayponzi['object']\n",
    "    treeponzstr = treeponzi['object']\n",
    "    handoverponzstr = handoverponzi['object']\n",
    "    waterponzstr = waterfallponzi['object']\n",
    "    \n",
    "    c = 0\n",
    "    for by in df.bytecode.values:\n",
    "        \n",
    "        arr_ponz.append(distance_leven(by,arponzstr)/(len(by)+len(arponzstr)))\n",
    "        print('done arrponz' + ' ' + str(c))\n",
    "        tree_ponz.append(distance_leven(by,treeponzstr)/(len(by)+len(treeponzstr)))\n",
    "        print('done treeponz' + ' ' + str(c))\n",
    "        handov_ponz.append(distance_leven(by,handoverponzstr)/(len(by)+len(handoverponzstr)))\n",
    "        print('done handoverponz' + ' ' + str(c))\n",
    "        water_ponz.append(distance_leven(by,waterponzstr)/(len(by)+len(waterponzstr)))\n",
    "        print('done waterponz' + ' ' + str(c))\n",
    "        c += 1 \n",
    "        \n",
    "    df['dist arr'] = arr_ponz\n",
    "    df['dist tree'] = tree_ponz\n",
    "    df['dist handov'] = handov_ponz\n",
    "    df['dist water'] = water_ponz\n",
    "    \n",
    "    return(df)"
   ]
  },
  {
   "cell_type": "code",
   "execution_count": 143,
   "metadata": {
    "scrolled": true
   },
   "outputs": [],
   "source": [
    "#df = add_dist(smc_data)"
   ]
  },
  {
   "cell_type": "code",
   "execution_count": 142,
   "metadata": {},
   "outputs": [],
   "source": [
    "#df.to_csv('smc_data_dist.csv')"
   ]
  },
  {
   "cell_type": "code",
   "execution_count": 141,
   "metadata": {
    "scrolled": true
   },
   "outputs": [],
   "source": [
    "#df[['dist arr','dist tree','dist handov','dist water']]"
   ]
  },
  {
   "cell_type": "code",
   "execution_count": 301,
   "metadata": {},
   "outputs": [],
   "source": [
    "def add_dist_parr(df):\n",
    "    \n",
    "    \"\"\"\n",
    "    Version parallélisée\n",
    "    A partir d'un DF pandas, ajoute la distance de levenshtein des bytecodes des contrats aux bytecodes de référence\n",
    "    \n",
    "    \"\"\"\n",
    "    # Liste des bytecode de référence\n",
    "    \n",
    "    arr = arrayponzi['object']\n",
    "    tree = treeponzi['object']\n",
    "    handover = handoverponzi['object']\n",
    "    water = waterfallponzi['object']\n",
    "    \n",
    "    \n",
    "    ponzi_list = [arr,tree,handover,water]\n",
    "    time_elapsed = 0\n",
    "    result_list = []\n",
    "    \n",
    "    for ponz_type in ponzi_list:\n",
    "        \n",
    "        pool = multiprocessing.Pool(processes=multiprocessing.cpu_count())\n",
    "        start = time()\n",
    "        \n",
    "        results = [pool.apply(distance_leven,args=(m1,ponz_type)) for m1 in df['bytecode']]\n",
    "        \n",
    "        end = time()\n",
    "        time_elapsed += (end-start)\n",
    "        \n",
    "        result_list.append(results)\n",
    "        \n",
    "        pool.close()\n",
    "    \n",
    "    df['byte dist arr'] = result_list[0]\n",
    "    df['byte dist tree'] = result_list[1]\n",
    "    df['byte dist handover'] = result_list[2]\n",
    "    df['byte dist water'] = result_list[3]\n",
    "    \n",
    "    \n",
    "    \n",
    "    \n",
    "    return(df,time_elapsed)"
   ]
  },
  {
   "cell_type": "code",
   "execution_count": 302,
   "metadata": {},
   "outputs": [],
   "source": [
    "def add_dist_parr2(df):\n",
    "    \n",
    "    \"\"\"\n",
    "    Version parallélisée\n",
    "    A partir d'un DF pandas, ajoute la distance de levenshtein des bytecodes des contrats aux bytecodes de référence\n",
    "    \n",
    "    \"\"\"\n",
    "    # Liste des bytecode de référence\n",
    "    \n",
    "    arr = arrayponzi['object']\n",
    "    tree = treeponzi['object']\n",
    "    handover = handoverponzi['object']\n",
    "    water = waterfallponzi['object']\n",
    "    \n",
    "    \n",
    "    ponzi_list = [arr,tree,handover,water]\n",
    "    time_elapsed1 = 0\n",
    "    result_list = []\n",
    "    \n",
    "    for ponz_type in ponzi_list:\n",
    "        \n",
    "        pool = multiprocessing.Pool(processes=multiprocessing.cpu_count())\n",
    "        start = time()\n",
    "        \n",
    "        results = [pool.apply(distance_leven,args=(m1,ponz_type)) for m1 in df['bytecode']]\n",
    "        \n",
    "        end = time()\n",
    "        time_elapsed1 += (end-start)\n",
    "        \n",
    "        result_list.append(results)\n",
    "        \n",
    "        pool.close()\n",
    "    \n",
    "    df['byte dist arr'] = result_list[0]\n",
    "    df['byte dist tree'] = result_list[1]\n",
    "    df['byte dist handover'] = result_list[2]\n",
    "    df['byte dist water'] = result_list[3]\n",
    "    \n",
    "    # Comparaison des OPCODES \n",
    "    \n",
    "    arr = arrayponzi['opcodes']\n",
    "    tree = treeponzi['opcodes']\n",
    "    handover = handoverponzi['opcodes']\n",
    "    water = waterfallponzi['opcodes']\n",
    "    \n",
    "    \n",
    "    ponzi_list = [arr,tree,handover,water]\n",
    "    time_elapsed2 = 0\n",
    "    result_list = []\n",
    "    \n",
    "    for ponz_type in ponzi_list:\n",
    "        \n",
    "        pool = multiprocessing.Pool(processes=multiprocessing.cpu_count())\n",
    "        start = time()\n",
    "        \n",
    "        results = [pool.apply(distance_leven,args=(m1,ponz_type)) for m1 in df['opcode']]\n",
    "        \n",
    "        end = time()\n",
    "        time_elapsed2 += (end-start)\n",
    "        \n",
    "        result_list.append(results)\n",
    "        \n",
    "        pool.close()\n",
    "    \n",
    "    df['op dist arr'] = result_list[0]\n",
    "    df['op dist tree'] = result_list[1]\n",
    "    df['op dist handover'] = result_list[2]\n",
    "    df['op dist water'] = result_list[3]    \n",
    "    \n",
    "    return(df,time_elapsed1+time_elapsed2)"
   ]
  },
  {
   "cell_type": "code",
   "execution_count": 257,
   "metadata": {},
   "outputs": [],
   "source": [
    "def add_dist_op(df):\n",
    "    \n",
    "    arr = arrayponzi['opcodes']\n",
    "    tree = treeponzi['opcodes']\n",
    "    handover = handoverponzi['opcodes']\n",
    "    water = waterfallponzi['opcodes']\n",
    "    \n",
    "    \n",
    "    ponzi_list = [arr,tree,handover,water]\n",
    "    time_elapsed2 = 0\n",
    "    result_list = []\n",
    "    \n",
    "    for ponz_type in ponzi_list:\n",
    "        \n",
    "        pool = multiprocessing.Pool(processes=multiprocessing.cpu_count())\n",
    "        start = time()\n",
    "        \n",
    "        results = [pool.apply(distance_leven,args=(m1,ponz_type)) for m1 in df['opcode']]\n",
    "        \n",
    "        end = time()\n",
    "        time_elapsed2 += (end-start)\n",
    "        \n",
    "        result_list.append(results)\n",
    "        \n",
    "        pool.close()\n",
    "    \n",
    "    df['op dist arr'] = result_list[0]\n",
    "    df['op dist tree'] = result_list[1]\n",
    "    df['op dist handover'] = result_list[2]\n",
    "    df['op dist water'] = result_list[3]    \n",
    "    \n",
    "    return(df,time_elapsed2)"
   ]
  },
  {
   "cell_type": "markdown",
   "metadata": {},
   "source": [
    "# Enrichissement des données sur les Smart Contract"
   ]
  },
  {
   "cell_type": "markdown",
   "metadata": {},
   "source": [
    "## Rajout des OPCODES"
   ]
  },
  {
   "cell_type": "code",
   "execution_count": 200,
   "metadata": {},
   "outputs": [],
   "source": [
    "#x = df.iloc[3].bytecode"
   ]
  },
  {
   "cell_type": "code",
   "execution_count": 201,
   "metadata": {},
   "outputs": [],
   "source": [
    "#x = \"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\""
   ]
  },
  {
   "cell_type": "code",
   "execution_count": 202,
   "metadata": {},
   "outputs": [],
   "source": [
    "#instrs = list(disassemble_all(binascii.unhexlify(x[2:])))"
   ]
  },
  {
   "cell_type": "code",
   "execution_count": 203,
   "metadata": {},
   "outputs": [],
   "source": [
    "#a = assemble_hex(instrs)"
   ]
  },
  {
   "cell_type": "code",
   "execution_count": 204,
   "metadata": {},
   "outputs": [],
   "source": [
    "#print(disassemble_hex(a))"
   ]
  },
  {
   "cell_type": "code",
   "execution_count": 205,
   "metadata": {
    "scrolled": true
   },
   "outputs": [],
   "source": [
    "#str(disassemble_hex(a))"
   ]
  },
  {
   "cell_type": "code",
   "execution_count": 206,
   "metadata": {
    "scrolled": true
   },
   "outputs": [],
   "source": [
    "#str(disassemble_hex(a)).replace(\"\\n\",\" \")"
   ]
  },
  {
   "cell_type": "code",
   "execution_count": 315,
   "metadata": {},
   "outputs": [],
   "source": [
    "def add_opcodes(df):\n",
    "    \"\"\"\n",
    "    Ajoute à un DF Pandas une colonne avec les opcodes déduits du bytecode associé à chaque contrat\n",
    "    \n",
    "    \"\"\"\n",
    "    opcodes = []\n",
    "    start = time()\n",
    "    for bytecode in df['bytecode']:\n",
    "        if bytecode != '0x':\n",
    "            \n",
    "            instrs = list(disassemble_all(binascii.unhexlify(bytecode[2:])))\n",
    "            a = assemble_hex(instrs)\n",
    "        \n",
    "            res = str(disassemble_hex(a)).replace(\"\\n\",\" \")\n",
    "            opcodes.append(res)\n",
    "        else:\n",
    "            opcodes.append(\" \")\n",
    "        \n",
    "    df['opcode'] = opcodes\n",
    "    end = time()\n",
    "    \n",
    "    print(\"Time spent on adding opcodes:  \" + str(end-start))\n",
    "    \n",
    "    return(df)"
   ]
  },
  {
   "cell_type": "code",
   "execution_count": 306,
   "metadata": {
    "scrolled": false
   },
   "outputs": [
    {
     "data": {
      "text/html": [
       "<div>\n",
       "<style scoped>\n",
       "    .dataframe tbody tr th:only-of-type {\n",
       "        vertical-align: middle;\n",
       "    }\n",
       "\n",
       "    .dataframe tbody tr th {\n",
       "        vertical-align: top;\n",
       "    }\n",
       "\n",
       "    .dataframe thead th {\n",
       "        text-align: right;\n",
       "    }\n",
       "</style>\n",
       "<table border=\"1\" class=\"dataframe\">\n",
       "  <thead>\n",
       "    <tr style=\"text-align: right;\">\n",
       "      <th></th>\n",
       "      <th>address</th>\n",
       "      <th>bytecode</th>\n",
       "      <th>function_sighashes</th>\n",
       "      <th>is_erc20</th>\n",
       "      <th>is_erc721</th>\n",
       "    </tr>\n",
       "  </thead>\n",
       "  <tbody>\n",
       "    <tr>\n",
       "      <th>0</th>\n",
       "      <td>0xb260ca22980dd31a5d2289c52cbb16e6235986bc</td>\n",
       "      <td>0x</td>\n",
       "      <td>NaN</td>\n",
       "      <td>False</td>\n",
       "      <td>False</td>\n",
       "    </tr>\n",
       "    <tr>\n",
       "      <th>1</th>\n",
       "      <td>0xc7c7077456a7fd30e49c205049d35ad5bce32501</td>\n",
       "      <td>0x</td>\n",
       "      <td>NaN</td>\n",
       "      <td>False</td>\n",
       "      <td>False</td>\n",
       "    </tr>\n",
       "    <tr>\n",
       "      <th>2</th>\n",
       "      <td>0x7d3ae940eb73dc9131758ad2e326c7d863b0916a</td>\n",
       "      <td>0x606060405236156100615760e060020a600035046313...</td>\n",
       "      <td>0x13af4035,0x35c1d349,0x8da5cb5b,0x9003adfe,0x...</td>\n",
       "      <td>False</td>\n",
       "      <td>False</td>\n",
       "    </tr>\n",
       "    <tr>\n",
       "      <th>3</th>\n",
       "      <td>0xd9c324fa5596d188831afa9716ef78d0c2339afc</td>\n",
       "      <td>0x606060405236156100825760e060020a600035046306...</td>\n",
       "      <td>0x06fdde03,0x18160ddd,0x23b872dd,0x313ce567,0x...</td>\n",
       "      <td>False</td>\n",
       "      <td>False</td>\n",
       "    </tr>\n",
       "    <tr>\n",
       "      <th>4</th>\n",
       "      <td>0xa0dcc980a9ed1fbeb6641b098929ee7caad5c5a6</td>\n",
       "      <td>0x606060405236156100825760e060020a600035046306...</td>\n",
       "      <td>0x06fdde03,0x18160ddd,0x23b872dd,0x313ce567,0x...</td>\n",
       "      <td>False</td>\n",
       "      <td>False</td>\n",
       "    </tr>\n",
       "  </tbody>\n",
       "</table>\n",
       "</div>"
      ],
      "text/plain": [
       "                                      address  \\\n",
       "0  0xb260ca22980dd31a5d2289c52cbb16e6235986bc   \n",
       "1  0xc7c7077456a7fd30e49c205049d35ad5bce32501   \n",
       "2  0x7d3ae940eb73dc9131758ad2e326c7d863b0916a   \n",
       "3  0xd9c324fa5596d188831afa9716ef78d0c2339afc   \n",
       "4  0xa0dcc980a9ed1fbeb6641b098929ee7caad5c5a6   \n",
       "\n",
       "                                            bytecode  \\\n",
       "0                                                 0x   \n",
       "1                                                 0x   \n",
       "2  0x606060405236156100615760e060020a600035046313...   \n",
       "3  0x606060405236156100825760e060020a600035046306...   \n",
       "4  0x606060405236156100825760e060020a600035046306...   \n",
       "\n",
       "                                  function_sighashes  is_erc20  is_erc721  \n",
       "0                                                NaN     False      False  \n",
       "1                                                NaN     False      False  \n",
       "2  0x13af4035,0x35c1d349,0x8da5cb5b,0x9003adfe,0x...     False      False  \n",
       "3  0x06fdde03,0x18160ddd,0x23b872dd,0x313ce567,0x...     False      False  \n",
       "4  0x06fdde03,0x18160ddd,0x23b872dd,0x313ce567,0x...     False      False  "
      ]
     },
     "execution_count": 306,
     "metadata": {},
     "output_type": "execute_result"
    }
   ],
   "source": [
    "smc_data[0:5]"
   ]
  },
  {
   "cell_type": "code",
   "execution_count": 316,
   "metadata": {
    "scrolled": false
   },
   "outputs": [
    {
     "name": "stdout",
     "output_type": "stream",
     "text": [
      "Time spent on adding opcodes:  11.011974096298218\n"
     ]
    }
   ],
   "source": [
    "test_data = smc_data.copy()\n",
    "test_data = add_opcodes(test_data)"
   ]
  },
  {
   "cell_type": "code",
   "execution_count": null,
   "metadata": {
    "scrolled": false
   },
   "outputs": [],
   "source": [
    "df,t_spent = add_dist_parr2(test_data)"
   ]
  },
  {
   "cell_type": "code",
   "execution_count": null,
   "metadata": {},
   "outputs": [],
   "source": [
    "df"
   ]
  },
  {
   "cell_type": "code",
   "execution_count": null,
   "metadata": {},
   "outputs": [],
   "source": [
    "t_spent"
   ]
  },
  {
   "cell_type": "code",
   "execution_count": null,
   "metadata": {},
   "outputs": [],
   "source": []
  }
 ],
 "metadata": {
  "kernelspec": {
   "display_name": "Python 3",
   "language": "python",
   "name": "python3"
  },
  "language_info": {
   "codemirror_mode": {
    "name": "ipython",
    "version": 3
   },
   "file_extension": ".py",
   "mimetype": "text/x-python",
   "name": "python",
   "nbconvert_exporter": "python",
   "pygments_lexer": "ipython3",
   "version": "3.6.7"
  }
 },
 "nbformat": 4,
 "nbformat_minor": 2
}
