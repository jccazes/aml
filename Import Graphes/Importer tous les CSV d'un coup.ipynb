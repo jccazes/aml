{
 "cells": [
  {
   "cell_type": "markdown",
   "metadata": {},
   "source": [
    "### Packages"
   ]
  },
  {
   "cell_type": "code",
   "execution_count": 109,
   "metadata": {},
   "outputs": [],
   "source": [
    "import os \n",
    "import pandas as pd \n",
    "import numpy as np"
   ]
  },
  {
   "cell_type": "markdown",
   "metadata": {},
   "source": [
    "# Smart Contracts"
   ]
  },
  {
   "cell_type": "code",
   "execution_count": 104,
   "metadata": {},
   "outputs": [],
   "source": [
    "def import_all_contracts():\n",
    "    \n",
    "    csv_list = []\n",
    "    data = pd.DataFrame()\n",
    "    \n",
    "    for start in sorted(os.listdir()):\n",
    "        folder_list = os.listdir(\"/home/nbernard/output/contracts/{}\".format(start))\n",
    "        folder = sorted(os.listdir(\"/home/nbernard/output/contracts/{}/{}\".format(start,folder_list[0])))\n",
    "        csv_list.append(folder)\n",
    "    \n",
    "    csv_list = np.array(csv_list).flatten()\n",
    "    \n",
    "    end_list = []\n",
    "    for start in sorted(os.listdir()):\n",
    "        folder_list = os.listdir(\"/home/nbernard/output/contracts/{}\".format(start))\n",
    "        end_list.append(folder_list)\n",
    "    \n",
    "    end_list = np.array(end_list).flatten()\n",
    "    \n",
    "    for start,csv,end in zip(sorted(os.listdir()),csv_list,end_list):\n",
    "        \n",
    "        folder = \"/home/nbernard/output/contracts/{}\".format(start)\n",
    "        file = folder + \"/\" + end + \"/{}\".format(csv)\n",
    "        df = pd.read_csv(file)\n",
    "        data = data.append(df)\n",
    "    return(data)"
   ]
  },
  {
   "cell_type": "code",
   "execution_count": 110,
   "metadata": {},
   "outputs": [],
   "source": [
    "#test = import_all_contracts()"
   ]
  },
  {
   "cell_type": "code",
   "execution_count": 111,
   "metadata": {},
   "outputs": [],
   "source": [
    "#test.head()"
   ]
  },
  {
   "cell_type": "code",
   "execution_count": 112,
   "metadata": {},
   "outputs": [],
   "source": [
    "#test.describe()"
   ]
  },
  {
   "cell_type": "markdown",
   "metadata": {},
   "source": [
    "# Transactions"
   ]
  },
  {
   "cell_type": "code",
   "execution_count": null,
   "metadata": {},
   "outputs": [],
   "source": []
  }
 ],
 "metadata": {
  "kernelspec": {
   "display_name": "Python 3",
   "language": "python",
   "name": "python3"
  },
  "language_info": {
   "codemirror_mode": {
    "name": "ipython",
    "version": 3
   },
   "file_extension": ".py",
   "mimetype": "text/x-python",
   "name": "python",
   "nbconvert_exporter": "python",
   "pygments_lexer": "ipython3",
   "version": "3.6.7"
  }
 },
 "nbformat": 4,
 "nbformat_minor": 2
}
