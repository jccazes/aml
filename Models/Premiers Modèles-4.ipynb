{
 "cells": [
  {
   "cell_type": "markdown",
   "metadata": {},
   "source": [
    "### Packages"
   ]
  },
  {
   "cell_type": "code",
   "execution_count": 3,
   "metadata": {
    "scrolled": false
   },
   "outputs": [
    {
     "name": "stdout",
     "output_type": "stream",
     "text": [
      "importing Jupyter notebook from Recup_scams_ex.ipynb\n"
     ]
    }
   ],
   "source": [
    "import os \n",
    "import import_ipynb\n",
    "from time import sleep\n",
    "# Working Directory\n",
    "os.chdir(\"../data\")\n",
    "\n",
    "# Importing notebooks \n",
    "from Import_data import *\n",
    "from Recup_scams_ex import * "
   ]
  },
  {
   "cell_type": "markdown",
   "metadata": {},
   "source": [
    "# Idées premières"
   ]
  },
  {
   "cell_type": "markdown",
   "metadata": {},
   "source": [
    "On dispose de données labellisées comme étant des \"scams\", des arnaques. \n",
    "Ce sont essentiellement des adresses ETH, dont il faut regarder le comportement.\n",
    "Quels features faire sortir de ces adresses, qui caractériseraient les comportements suspects?\n",
    "\n",
    "Une fois un modèle de caractérisation d'adresses/contrats suspects choisi, on pourra tenter d'associer les adresses entre elles."
   ]
  },
  {
   "cell_type": "markdown",
   "metadata": {},
   "source": [
    "## Caractérisation d'une adresse/contrat suspect"
   ]
  },
  {
   "cell_type": "markdown",
   "metadata": {},
   "source": [
    "1) Un temps d'inactivté, puis un \"boom\" d'activité peut-être considéré comme un comportement suspect. On part du principe qu'une adresse ETH est en règle générale idle.\n",
    "\n",
    "2) Un flux de transactions parallèles et/ou de même montant vers une même ou différentes adresses.\n",
    "\n",
    "3) Un flux de transactions soudain (\"établir un rapport, une proportion\"?) qui vide le compte d'un seul coup? Eventuellement un outlier sur la proportion quantité d'ETH (in ou out) / temps en h. \n",
    "\n",
    "4) Des transactions vers des oeuvres de charité suspicieuses.\n",
    "\n",
    "5) Une distance vers un exchange assez court, mais pas direct? (Il faut suivre les transactions qui émanent d'une adresse vers une autre ou plusieurs adresses, de même montant ou de montant divisé, qui mènent à un exchange.)\n",
    "\n",
    "6) On peut s'attendre a des envois d'ETH entre les adresses scams (on peut tenter de compter ces nombres de transactions en communauté) et des petits (ou gros d'ailleurs) envois vers des adresses non suspectes, peut-être des mules (les compter?). Le regroupement de portefeuilles sera traité en seconde part.\n",
    "\n",
    "7) Eventuellement, regarder les transactions qui entrent dans les exchanges, de montants assez elevées?\n",
    "\n",
    "8) Peut etre qu'il se passe aussi un grand nombre de transactions \"à blanc\"? Petits montants, adresses qui semblent pas liées? IL FAUT REGARDER LES GROS MONTANTS. EPS-Voisinage\n",
    "\n",
    "IL FAUT REGARDER LE DERNIER NOEUD AVANT L EXCHANGE, CE SERA UN PORTEFEUILLE CONTROLE\n",
    "\n",
    "9) Obfuscation par l'utilisation de token?\n",
    "\n",
    "PS: Certains gros utilisateurs font du margin trading, prendre cela en compte par rapport à l'activité des adresses\n",
    "En gros, ils passent de beaucoup d'ETH, a tres peu d'un coup. Ou bien encore quand il n'y a que des transactions qui viennent d'exchanges."
   ]
  },
  {
   "cell_type": "markdown",
   "metadata": {},
   "source": [
    "## Temps "
   ]
  },
  {
   "cell_type": "markdown",
   "metadata": {},
   "source": [
    "Gestion de la composante temporelle:\n",
    "On n'a accès qu'aux adresses si les transactions ont lieu.\n",
    "Il faut aller chercher suffisamment profondément dans les blocks, afin d'avoir un historique large."
   ]
  },
  {
   "cell_type": "markdown",
   "metadata": {},
   "source": [
    "De plus, les transactions se suivent, il faut trouver un moyen de prendre ca en compte."
   ]
  },
  {
   "cell_type": "markdown",
   "metadata": {},
   "source": [
    "# Feature engineering"
   ]
  },
  {
   "cell_type": "code",
   "execution_count": 137,
   "metadata": {},
   "outputs": [],
   "source": [
    "def parse_all_ethscam2():\n",
    "\n",
    "    \n",
    "    # On importe d'abord l'ensemble des données non formatées du site \n",
    "    scam_data = get_ethscam_data()\n",
    "    \n",
    "    # Indices des adresses scams uniquement liées a l'ETH\n",
    "    ind = scam_data.iloc[2] == \"ETH\" \n",
    "    ind = np.argwhere(ind)[:,0]\n",
    "    \n",
    "    # Création du tableau \"propre\"\n",
    "    \n",
    "    df = pd.DataFrame()\n",
    "    \n",
    "    # Récupération des addresses \n",
    "    addresses = np.array(scam_data.iloc[:,ind].columns)\n",
    "    \n",
    "    # Récupération des descriptifs \n",
    "    prec1 = np.array(scam_data.iloc[1,ind])\n",
    "    prec2 = np.array(scam_data.iloc[6,ind])\n",
    "    prec = []\n",
    "    for i,j in zip(prec1,prec2):\n",
    "        prec.append(i+\" \"+j)\n",
    "    \n",
    "    # On remplit le tableau \n",
    "    df['addresses'] = addresses\n",
    "    df['precision'] = prec\n",
    "    \n",
    "    # On retire les adresses non ETH \n",
    "    non_eth_ind = np.argwhere([i[0:2] != '0x' for i in df.addresses])[:,0]\n",
    "    df = df.drop(non_eth_ind)\n",
    "    \n",
    "    # On retire les transactions \n",
    "    non_addresses = np.argwhere([len(i) > 42 for i in df.addresses])[:,0]\n",
    "    df = df.drop(non_addresses)\n",
    "    \n",
    "    \"\"\"\n",
    "    On complète le tableau avec les balances et les transactions \n",
    "    https://api.etherscan.io/api?module=account&action=balancemulti&address={}&tag=latest&apikey=B16PQFQJ9UPYNBP8R6YXF3631EVRTBHUFZ\n",
    "    EXTRACTION DES BALANCES \n",
    "    \"\"\"\n",
    "    \n",
    "    urls = []\n",
    "    n = 1\n",
    "    url = str()\n",
    "    n_iters = np.ceil(df.shape[0]/20) # Le nombre de requetes nécessaires, on ne peut en faire que par batch de 20\n",
    "    compteur = 0\n",
    "    \n",
    "    for add in df.addresses:\n",
    "        if n%20 != 0:\n",
    "            url = url + add +',' \n",
    "            n += 1\n",
    "            \n",
    "            \n",
    "            \n",
    "            \n",
    "        else:\n",
    "            url = url + add \n",
    "            urls.append(url)\n",
    "            url = str()\n",
    "            n = 1\n",
    "            compteur += 1 \n",
    "            \n",
    "    if compteur != n_iters:\n",
    "        url = str()\n",
    "        for add in df.addresses[(compteur*20):]:\n",
    "            url = url + add +',' \n",
    "            \n",
    "        url = url[:-1]    \n",
    "        urls.append(url)\n",
    "    \n",
    "    \n",
    "    balance = []\n",
    "    for url in urls:\n",
    "        \n",
    "        # adresse de l'api\n",
    "        current_url = \"https://api.etherscan.io/api?module=account&action=balancemulti&address={}&tag=latest&apikey=B16PQFQJ9UPYNBP8R6YXF3631EVRTBHUFZ\".format(url)\n",
    "        r = requests.get(url = current_url) \n",
    "  \n",
    "        # extraction du json\n",
    "        data = r.json() \n",
    "    \n",
    "        res = data['result']\n",
    "        df_res = pd.DataFrame(data=res)\n",
    "        df_res['balance'] = df_res['balance'].astype(float)*10**(-18)\n",
    "        curr_bal = list(df_res['balance'].values)\n",
    "        balance += curr_bal\n",
    "        \n",
    "    df['balance'] = balance\n",
    "    \n",
    "    \n",
    "    \"\"\"\n",
    "    EXTRACTION DU NOMBRE DE  TXNS\n",
    "    NB: IL Y A UN ECART ENTRE LE NB OBTENU SUR ETHERSCAN ET INFURA, ON PREND LA VALEUR ETHERSCAN LORS DE LA FUSION\n",
    "    \"\"\"\n",
    "    API_ENDPOINT = \"https://mainnet.infura.io/v3/c6a6f0e057ec465b90b5b85c5cdb5990\"\n",
    "    \n",
    "    data_list = []\n",
    "    for j in df.addresses:\n",
    "        data_list.append({\"jsonrpc\":\"2.0\",\"method\":\"eth_getTransactionCount\",\"params\": [j,\"latest\"],\"id\":1})\n",
    "    \n",
    "    res_list = []\n",
    "\n",
    "    for j in data_list:\n",
    "        data = j\n",
    "        headers = {\"Content-Type\": \"application/json\"}\n",
    "    \n",
    "        # sending post request and saving response as response object \n",
    "        r = requests.post(url = API_ENDPOINT, json = data, headers=headers) \n",
    "  \n",
    "        # extracting response text  \n",
    "        pastebin_url = r.text \n",
    "\n",
    "        dict_res = eval(pastebin_url)\n",
    "        res = dict_res['result']\n",
    "        res = int(res,16)\n",
    "        res_list.append(res)\n",
    "        \n",
    "    \n",
    "    df['txn'] = res_list\n",
    "    \n",
    "    return(df,res_list)\n",
    "    "
   ]
  },
  {
   "cell_type": "code",
   "execution_count": null,
   "metadata": {},
   "outputs": [],
   "source": []
  }
 ],
 "metadata": {
  "kernelspec": {
   "display_name": "Python 3",
   "language": "python",
   "name": "python3"
  },
  "language_info": {
   "codemirror_mode": {
    "name": "ipython",
    "version": 3
   },
   "file_extension": ".py",
   "mimetype": "text/x-python",
   "name": "python",
   "nbconvert_exporter": "python",
   "pygments_lexer": "ipython3",
   "version": "3.6.7"
  }
 },
 "nbformat": 4,
 "nbformat_minor": 2
}
