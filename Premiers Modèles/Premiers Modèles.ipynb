{
 "cells": [
  {
   "cell_type": "markdown",
   "metadata": {},
   "source": [
    "### Packages"
   ]
  },
  {
   "cell_type": "code",
   "execution_count": null,
   "metadata": {},
   "outputs": [],
   "source": []
  },
  {
   "cell_type": "code",
   "execution_count": null,
   "metadata": {},
   "outputs": [],
   "source": []
  },
  {
   "cell_type": "markdown",
   "metadata": {},
   "source": [
    "# Idées premières"
   ]
  },
  {
   "cell_type": "markdown",
   "metadata": {},
   "source": [
    "On dispose de données labellisées comme étant des \"scams\", des arnaques. \n",
    "Ce sont essentiellement des adresses ETH, dont il faut regarder le comportement.\n",
    "Quels features faire sortir de ces adresses, qui caractériseraient les comportements suspects?\n",
    "\n",
    "Une fois un modèle de caractérisation d'adresses/contrats suspects choisi, on pourra tenter d'associer les adresses entre elles."
   ]
  },
  {
   "cell_type": "markdown",
   "metadata": {},
   "source": [
    "1) Un temps d'inactivté, puis un \"boom\" d'activité peut-être considéré comme un comportement suspect. On part du principe qu'une adresse ETH est en règle générale idle.\n",
    "\n",
    "2) Un flux de transactions parallèles et/ou de même montant vers une même ou différentes adresses.\n",
    "\n",
    "3) Un flux de transactions soudain (\"établir un rapport, une proportion\"?) qui vide le compte d'un seul coup? Eventuellement un outlier sur la proportion quantité d'ETH (in ou out) / temps en h. \n",
    "\n",
    "4) Des transactions vers des oeuvres de charité suspicieuses.\n",
    "\n",
    "5) Une distance vers un exchange assez court, mais pas direct? (Il faut suivre les transactions qui émanent d'une adresse vers une autre ou plusieurs adresses, de même montant ou de montant divisé, qui mènent à un exchange.)\n",
    "\n",
    "6) On peut s'attendre a des envois d'ETH entre les adresses scams (on peut tenter de compter ces nombres de transactions en communauté) et des petits (ou gros d'ailleurs) envois vers des adresses non suspectes, peut-être des mules (les compter?). Le regroupement de portefeuilles sera traité en seconde part.\n",
    "\n",
    "7) Eventuellement, regarder les transactions qui entrent dans les exchanges, de montants assez elevées?\n",
    "\n",
    "8) Peut etre qu'il se passe aussi un grand nombre de transactions \"à blanc\"? Petits montants, adresses qui semblent pas liées? IL FAUT REGARDER LES GROS MONTANTS. EPS-Voisinage\n",
    "\n",
    "IL FAUT REGARDER LE DERNIER NOEUD AVANT L EXCHANGE, CE SERA UN PORTEFEUILLE CONTROLE\n",
    "\n",
    "9) Obfuscation par l'utilisation de token?\n",
    "\n",
    "PS: Certains gros utilisateurs font du margin trading, prendre cela en compte par rapport à l'activité des adresses"
   ]
  },
  {
   "cell_type": "markdown",
   "metadata": {},
   "source": [
    "# Feature engineering"
   ]
  },
  {
   "cell_type": "code",
   "execution_count": null,
   "metadata": {},
   "outputs": [],
   "source": []
  }
 ],
 "metadata": {
  "kernelspec": {
   "display_name": "Python 3",
   "language": "python",
   "name": "python3"
  },
  "language_info": {
   "codemirror_mode": {
    "name": "ipython",
    "version": 3
   },
   "file_extension": ".py",
   "mimetype": "text/x-python",
   "name": "python",
   "nbconvert_exporter": "python",
   "pygments_lexer": "ipython3",
   "version": "3.6.7"
  }
 },
 "nbformat": 4,
 "nbformat_minor": 2
}
